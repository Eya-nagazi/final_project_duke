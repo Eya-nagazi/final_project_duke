{
    "cells": [
        {
            "metadata": {},
            "cell_type": "code",
            "source": "print(\"hello world\")",
            "execution_count": 1,
            "outputs": [
                {
                    "output_type": "stream",
                    "text": "hello world\n",
                    "name": "stdout"
                }
            ]
        },
        {
            "metadata": {},
            "cell_type": "code",
            "source": "print(\"this is the first notebookwith IBM Watson \")",
            "execution_count": 3,
            "outputs": [
                {
                    "output_type": "stream",
                    "text": "this is the first notebookwith IBM Watson \n",
                    "name": "stdout"
                }
            ]
        },
        {
            "metadata": {},
            "cell_type": "markdown",
            "source": "## Exercice 1"
        },
        {
            "metadata": {},
            "cell_type": "markdown",
            "source": "## import the my_data file that contains data about watershed"
        },
        {
            "metadata": {},
            "cell_type": "code",
            "source": "#for line in my_data\nimport types\nimport pandas as pd\nfrom botocore.client import Config\nimport ibm_boto3\n\ndef __iter__(self): return 0\n\n# @hidden_cell\n# The following code accesses a file in your IBM Cloud Object Storage. It includes your credentials.\n# You might want to remove those credentials before you share the notebook.\nclient_94bedae73ace4e7e9ab71b8ecd62ad97 = ibm_boto3.client(service_name='s3',\n    ibm_api_key_id='gDSDEtZWmpxlEOjsZwhW_5NJTs6Iqzl184Jq07D-g6pl',\n    ibm_auth_endpoint=\"https://iam.cloud.ibm.com/oidc/token\",\n    config=Config(signature_version='oauth'),\n    endpoint_url='https://s3.eu-geo.objectstorage.service.networklayer.com')\n\nbody = client_94bedae73ace4e7e9ab71b8ecd62ad97.get_object(Bucket='datasciencetools-donotdelete-pr-y07avq1lotrfrz',Key='my_data.csv')['Body']\n# add missing __iter__ method, so pandas accepts body as file-like object\nif not hasattr(body, \"__iter__\"): body.__iter__ = types.MethodType( __iter__, body )\n\ndf_data_1 = pd.read_csv(body)\ndf_data_1.head()\n",
            "execution_count": 6,
            "outputs": [
                {
                    "output_type": "execute_result",
                    "execution_count": 6,
                    "data": {
                        "text/plain": "  ws_property_id location property_type           city state  zipcode  \\\n0             W1    L9531            R6    Chapel Hill    NC    27514   \n1            W10    L9533            R6    Chapel Hill    NC    27517   \n2           W100    L1944            R2  San Francisco    CA    94129   \n3           W101   L15257            R2         Austin    TX    78702   \n4           W102   L15257            R6         Austin    TX    78702   \n\n   apt_house  num_bedrooms kitchen shared  sample_nightly_rent_price  \\\n0  apartment             2       Y      N                        148   \n1  apartment             2       Y      N                        133   \n2  apartment             1       Y      N                        372   \n3  apartment             1       Y      N                        302   \n4  apartment             2       Y      N                        429   \n\n   occupancy_rate  current_monthly_rent  percentile_10th_price  \\\n0         16.1644                  1060                    114   \n1         34.7945                  1200                    111   \n2         39.7260                  3300                    108   \n3         36.4384                  1400                    178   \n4         41.0959                  2000                    221   \n\n   percentile_90th_price  \n0                    153  \n1                    149  \n2                    610  \n3                    533  \n4                    617  ",
                        "text/html": "<div>\n<style scoped>\n    .dataframe tbody tr th:only-of-type {\n        vertical-align: middle;\n    }\n\n    .dataframe tbody tr th {\n        vertical-align: top;\n    }\n\n    .dataframe thead th {\n        text-align: right;\n    }\n</style>\n<table border=\"1\" class=\"dataframe\">\n  <thead>\n    <tr style=\"text-align: right;\">\n      <th></th>\n      <th>ws_property_id</th>\n      <th>location</th>\n      <th>property_type</th>\n      <th>city</th>\n      <th>state</th>\n      <th>zipcode</th>\n      <th>apt_house</th>\n      <th>num_bedrooms</th>\n      <th>kitchen</th>\n      <th>shared</th>\n      <th>sample_nightly_rent_price</th>\n      <th>occupancy_rate</th>\n      <th>current_monthly_rent</th>\n      <th>percentile_10th_price</th>\n      <th>percentile_90th_price</th>\n    </tr>\n  </thead>\n  <tbody>\n    <tr>\n      <th>0</th>\n      <td>W1</td>\n      <td>L9531</td>\n      <td>R6</td>\n      <td>Chapel Hill</td>\n      <td>NC</td>\n      <td>27514</td>\n      <td>apartment</td>\n      <td>2</td>\n      <td>Y</td>\n      <td>N</td>\n      <td>148</td>\n      <td>16.1644</td>\n      <td>1060</td>\n      <td>114</td>\n      <td>153</td>\n    </tr>\n    <tr>\n      <th>1</th>\n      <td>W10</td>\n      <td>L9533</td>\n      <td>R6</td>\n      <td>Chapel Hill</td>\n      <td>NC</td>\n      <td>27517</td>\n      <td>apartment</td>\n      <td>2</td>\n      <td>Y</td>\n      <td>N</td>\n      <td>133</td>\n      <td>34.7945</td>\n      <td>1200</td>\n      <td>111</td>\n      <td>149</td>\n    </tr>\n    <tr>\n      <th>2</th>\n      <td>W100</td>\n      <td>L1944</td>\n      <td>R2</td>\n      <td>San Francisco</td>\n      <td>CA</td>\n      <td>94129</td>\n      <td>apartment</td>\n      <td>1</td>\n      <td>Y</td>\n      <td>N</td>\n      <td>372</td>\n      <td>39.7260</td>\n      <td>3300</td>\n      <td>108</td>\n      <td>610</td>\n    </tr>\n    <tr>\n      <th>3</th>\n      <td>W101</td>\n      <td>L15257</td>\n      <td>R2</td>\n      <td>Austin</td>\n      <td>TX</td>\n      <td>78702</td>\n      <td>apartment</td>\n      <td>1</td>\n      <td>Y</td>\n      <td>N</td>\n      <td>302</td>\n      <td>36.4384</td>\n      <td>1400</td>\n      <td>178</td>\n      <td>533</td>\n    </tr>\n    <tr>\n      <th>4</th>\n      <td>W102</td>\n      <td>L15257</td>\n      <td>R6</td>\n      <td>Austin</td>\n      <td>TX</td>\n      <td>78702</td>\n      <td>apartment</td>\n      <td>2</td>\n      <td>Y</td>\n      <td>N</td>\n      <td>429</td>\n      <td>41.0959</td>\n      <td>2000</td>\n      <td>221</td>\n      <td>617</td>\n    </tr>\n  </tbody>\n</table>\n</div>"
                    },
                    "metadata": {}
                }
            ]
        }
    ],
    "metadata": {
        "kernelspec": {
            "name": "python3",
            "display_name": "Python 3.6",
            "language": "python"
        },
        "language_info": {
            "name": "python",
            "version": "3.6.9",
            "mimetype": "text/x-python",
            "codemirror_mode": {
                "name": "ipython",
                "version": 3
            },
            "pygments_lexer": "ipython3",
            "nbconvert_exporter": "python",
            "file_extension": ".py"
        }
    },
    "nbformat": 4,
    "nbformat_minor": 1
}